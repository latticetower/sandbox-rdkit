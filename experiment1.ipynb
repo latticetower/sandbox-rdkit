{
 "cells": [
  {
   "cell_type": "code",
   "execution_count": 1,
   "metadata": {
    "collapsed": true
   },
   "outputs": [],
   "source": [
    "from rdkit import Chem\n",
    "from rdkit.Chem import Draw\n",
    "import pandas as pd\n",
    "import matplotlib.pyplot as plt\n",
    "%matplotlib inline"
   ]
  },
  {
   "cell_type": "code",
   "execution_count": 2,
   "metadata": {
    "collapsed": true
   },
   "outputs": [],
   "source": [
    "import rdkit\n",
    "from rdkit import Chem\n",
    "from rdkit.Chem import AllChem\n",
    "\n",
    "sdf_file_name = \"solubility_2007.sdf\"\n",
    "\n",
    "\n",
    "def get_fingerprint(molecule, sep=\",\", nBits=2048):\n",
    "    \"\"\"\n",
    "    This is moved to separate function to change in 1 place when necessary\n",
    "    returns string (probably ready for saving to .csv)\n",
    "    warning!!! don't use GetMorganFingerprint(...)\n",
    "    \"\"\"\n",
    "    for x in AllChem.GetMorganFingerprintAsBitVect(molecule, 2, nBits=nBits):\n",
    "        if x not in set([1, 0]):\n",
    "            print(x, molecule)\n",
    "    return sep.join([str(x) for x in AllChem.GetMorganFingerprintAsBitVect(molecule, 2, nBits=nBits)])\n",
    "def load_database(filename, sep=\",\"):\n",
    "    if not os.path.exists(filename):\n",
    "        print(\"sdf database couldn't be found at '%s'\" % filename)\n",
    "        exit(1)\n",
    "    suppl = Chem.SDMolSupplier(filename)\n",
    "    for mol in suppl:\n",
    "        yield sep.join([mol.GetProp('EXPT'), get_fingerprint(mol, sep=sep)])"
   ]
  },
  {
   "cell_type": "code",
   "execution_count": 3,
   "metadata": {
    "collapsed": false
   },
   "outputs": [],
   "source": [
    "bbb_file = \"bbb.csv\"\n",
    "f = open(bbb_file, 'w')\n",
    "for x in pd.read_csv(\"blood_barriers.csv\").as_matrix():\n",
    "    mol = Chem.MolFromSmiles(x[1])\n",
    "    if mol is None:\n",
    "        continue\n",
    "    f.write(\",\".join([str(x[0]), get_fingerprint(mol)])+\"\\n\")"
   ]
  },
  {
   "cell_type": "code",
   "execution_count": 4,
   "metadata": {
    "collapsed": true
   },
   "outputs": [],
   "source": [
    "from sklearn import tree\n",
    "from blagging import BlaggingClassifier"
   ]
  },
  {
   "cell_type": "code",
   "execution_count": 8,
   "metadata": {
    "collapsed": false
   },
   "outputs": [],
   "source": [
    "from sklearn.ensemble import BaggingClassifier"
   ]
  },
  {
   "cell_type": "code",
   "execution_count": 5,
   "metadata": {
    "collapsed": true
   },
   "outputs": [],
   "source": [
    "clf = tree.DecisionTreeClassifier()"
   ]
  },
  {
   "cell_type": "code",
   "execution_count": 6,
   "metadata": {
    "collapsed": false
   },
   "outputs": [],
   "source": [
    "data = pd.read_csv(bbb_file, header=None, sep=',').apply(lambda x: x.astype('bool')).drop_duplicates()\n",
    "Y = data[0] \n",
    "X = data.loc[:, 1:]\n",
    "from sklearn.cross_validation import train_test_split\n",
    "x_tr,  x_test, y_tr, y_test = train_test_split(X, Y, test_size=0.2)"
   ]
  },
  {
   "cell_type": "code",
   "execution_count": 7,
   "metadata": {
    "collapsed": false
   },
   "outputs": [
    {
     "name": "stdout",
     "output_type": "stream",
     "text": [
      "0.996677740864 0.789473684211\n"
     ]
    }
   ],
   "source": [
    "clf = clf.fit(x_tr, y_tr)\n",
    "print clf.score(x_tr, y_tr), clf.score(x_test, y_test)"
   ]
  },
  {
   "cell_type": "code",
   "execution_count": 9,
   "metadata": {
    "collapsed": false
   },
   "outputs": [
    {
     "name": "stdout",
     "output_type": "stream",
     "text": [
      "0.986710963455 0.697368421053\n"
     ]
    }
   ],
   "source": [
    "bc = BaggingClassifier()\n",
    "bc = bc.fit(x_tr, y_tr)\n",
    "print bc.score(x_tr, y_tr), bc.score(x_test, y_test)"
   ]
  },
  {
   "cell_type": "code",
   "execution_count": 10,
   "metadata": {
    "collapsed": false
   },
   "outputs": [
    {
     "data": {
      "text/plain": [
       "True     248\n",
       "False    129\n",
       "Name: 0, dtype: int64"
      ]
     },
     "execution_count": 10,
     "metadata": {},
     "output_type": "execute_result"
    }
   ],
   "source": [
    "data[0].value_counts()"
   ]
  },
  {
   "cell_type": "code",
   "execution_count": 11,
   "metadata": {
    "collapsed": false
   },
   "outputs": [
    {
     "data": {
      "text/plain": [
       "0.6578249336870027"
      ]
     },
     "execution_count": 11,
     "metadata": {},
     "output_type": "execute_result"
    }
   ],
   "source": [
    "248.0/(129+248)"
   ]
  },
  {
   "cell_type": "code",
   "execution_count": 19,
   "metadata": {
    "collapsed": false
   },
   "outputs": [],
   "source": [
    "from sklearn.metrics import roc_curve, auc\n",
    "from imblearn.combine import SMOTEENN\n",
    "sm = SMOTEENN()\n",
    "from sklearn.svm import SVC, LinearSVC"
   ]
  },
  {
   "cell_type": "code",
   "execution_count": 39,
   "metadata": {
    "collapsed": false
   },
   "outputs": [],
   "source": [
    "def draw_ROC_for_classifiers(classifiers, X, Y, test_size=0.2):\n",
    "    x_train,  x_test, y_train, y_test = train_test_split(X, Y, test_size=test_size, stratify=Y)\n",
    "    x_train, y_train = sm.fit_sample(x_train, y_train)\n",
    "    plt.figure()\n",
    "    for i, k in enumerate(classifiers):\n",
    "        classifier = classifiers[k].fit(x_train, y_train)\n",
    "        print \"%s: %0.3f, %0.3f\" % (k, classifier.score(x_train, y_train), classifier.score(x_test, y_test))\n",
    "        probs = classifier.decision_function(x_test) if isinstance(classifier, SVC) or isinstance(classifier, LinearSVC) else classifier.predict_proba(x_test)[:, 1]\n",
    "        fpr, tpr, thresholds = roc_curve(y_test, probs)\n",
    "        roc_auc = auc(fpr, tpr)\n",
    "        plt.plot(fpr, tpr, lw=2, label='%s (AUC = %0.2f)' % (k, roc_auc))\n",
    "    plt.xlim([0.0, 1.0])\n",
    "    plt.ylim([0.0, 1.05])\n",
    "    plt.xlabel('False Positive Rate')\n",
    "    plt.ylabel('True Positive Rate')\n",
    "    plt.title('ROC curves')\n",
    "    plt.legend(loc=\"lower right\")\n",
    "    plt.show()"
   ]
  },
  {
   "cell_type": "code",
   "execution_count": 41,
   "metadata": {
    "collapsed": false
   },
   "outputs": [
    {
     "name": "stdout",
     "output_type": "stream",
     "text": [
      "LinearSVC: 1.000, 0.618\n",
      "bagging classifier: 0.991, 0.697\n",
      "blagging classifier: 0.988, 0.724\n",
      "SVC: 0.589, 0.342\n",
      "decision tree: 1.000, 0.632\n"
     ]
    },
    {
     "data": {
      "image/png": "[encoded data removed]",
      "text/plain": [
       "<matplotlib.figure.Figure at 0x7fc1fc431c90>"
      ]
     },
     "metadata": {},
     "output_type": "display_data"
    }
   ],
   "source": [
    "draw_ROC_for_classifiers({\n",
    "        'decision tree' : tree.DecisionTreeClassifier(),\n",
    "        'bagging classifier' : BaggingClassifier(),\n",
    "        'blagging classifier': BlaggingClassifier(),\n",
    "        'SVC': SVC(),\n",
    "        'LinearSVC': LinearSVC()\n",
    "    }, X, Y)"
   ]
  },
  {
   "cell_type": "code",
   "execution_count": null,
   "metadata": {
    "collapsed": true
   },
   "outputs": [],
   "source": []
  }
 ],
 "metadata": {
  "kernelspec": {
   "display_name": "Python 2",
   "language": "python",
   "name": "python2"
  },
  "language_info": {
   "codemirror_mode": {
    "name": "ipython",
    "version": 2
   },
   "file_extension": ".py",
   "mimetype": "text/x-python",
   "name": "python",
   "nbconvert_exporter": "python",
   "pygments_lexer": "ipython2",
   "version": "2.7.6"
  }
 },
 "nbformat": 4,
 "nbformat_minor": 0
}
